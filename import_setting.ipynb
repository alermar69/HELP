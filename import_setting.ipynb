{
 "nbformat": 4,
 "nbformat_minor": 0,
 "metadata": {
  "kernelspec": {
   "display_name": "Python 3",
   "language": "python",
   "name": "python3"
  },
  "language_info": {
   "codemirror_mode": {
    "name": "ipython",
    "version": 2
   },
   "file_extension": ".py",
   "mimetype": "text/x-python",
   "name": "python",
   "nbconvert_exporter": "python",
   "pygments_lexer": "ipython2",
   "version": "2.7.6"
  },
  "colab": {
   "name": "import_setting.ipynb",
   "provenance": [],
   "toc_visible": true
  }
 },
 "cells": [
  {
   "cell_type": "markdown",
   "metadata": {
    "collapsed": false,
    "pycharm": {
     "name": "#%% md\n"
    },
    "id": "-s_1VO19UjVc"
   },
   "source": [
    "# Import"
   ]
  },
  {
   "cell_type": "markdown",
   "metadata": {
    "collapsed": false,
    "pycharm": {
     "name": "#%% md\n"
    },
    "id": "Obwh4NPtUjVp"
   },
   "source": [
    "## All"
   ]
  },
  {
   "cell_type": "code",
   "metadata": {
    "pycharm": {
     "name": "#%%\n"
    },
    "id": "gQkZL6R-UjVp"
   },
   "source": [
    "import pandas as pd\n",
    "import numpy as np\n",
    "\n",
    "# visualizations\n",
    "import matplotlib.pyplot as plt\n",
    "import seaborn as sns\n",
    "\n",
    "# datasets\n",
    "from sklearn.datasets import make_classification\n",
    "\n",
    "# preprocessing\n",
    "import category_encoders as ce\n",
    "from sklearn.preprocessing import OrdinalEncoder, OneHotEncoder, StandardScaler\n",
    "from imblearn.over_sampling import SMOTE\n",
    "from imblearn.under_sampling import CondensedNearestNeighbour\n",
    "\n",
    "# feature_selection\n",
    "from sklearn.feature_selection import SelectKBest, SelectPercentile\n",
    "from sklearn.feature_selection import mutual_info_classif, chi2\n",
    "\n",
    "# pipeline\n",
    "from sklearn.pipeline import Pipeline\n",
    "from sklearn.compose import ColumnTransformer\n",
    "from sklearn.base import BaseEstimator, TransformerMixin\n",
    "\n",
    "# models\n",
    "from sklearn.svm import SVC\n",
    "from sklearn.linear_model import LogisticRegression\n",
    "\n",
    "# ROC AUC, metrics\n",
    "from sklearn.metrics import auc, roc_curve, precision_recall_curve\n",
    "from sklearn.metrics import roc_auc_score, average_precision_score\n",
    "from sklearn.metrics import plot_roc_curve, plot_precision_recall_curve, plot_confusion_matrix\n",
    "from sklearn.metrics import mean_squared_error\n",
    "\n",
    "# model_selection\n",
    "from sklearn.model_selection import train_test_split, cross_val_score, KFold\n",
    "from sklearn.model_selection import GridSearchCV\n",
    "from sklearn.calibration import CalibratedClassifierCV\n",
    "\n",
    "# utilities\n",
    "from itertools import chain\n",
    "\n",
    "# model used for feature importances\n",
    "import lightgbm as lgb\n",
    "\n",
    "# memory management\n",
    "import gc\n",
    "\n",
    "# warnings\n",
    "import warnings\n",
    "\n",
    "# my lib\n",
    "from httpimport import github_repo\n",
    "\n",
    "modules = ['googledrive', 'feature_engineering', 'feature_selector']\n",
    "with github_repo('alermar69', 'python_lib', modules):\n",
    "    from googledrive import GoogleDrive as gd\n",
    "    import feature_engineering as fe\n",
    "    from feature_selector import FeatureSelector\n",
    "\n"
   ],
   "execution_count": null,
   "outputs": []
  },
  {
   "cell_type": "markdown",
   "metadata": {
    "collapsed": false,
    "pycharm": {
     "name": "#%% md\n"
    },
    "id": "XmtuerfZUjVs"
   },
   "source": [
    "## My LIB"
   ]
  },
  {
   "cell_type": "code",
   "metadata": {
    "collapsed": true,
    "id": "Mo0BCyrSUjVt"
   },
   "source": [
    "from httpimport import github_repo\n",
    "\n",
    "modules = ['googledrive', 'feature_engineering', 'feature_selector']\n",
    "with github_repo('alermar69', 'python_lib', modules):\n",
    "    from googledrive import GoogleDrive as gd\n",
    "    import feature_engineering as fe\n",
    "    from feature_selector import FeatureSelector"
   ],
   "execution_count": null,
   "outputs": []
  },
  {
   "cell_type": "code",
   "metadata": {
    "pycharm": {
     "name": "#%%\n"
    },
    "id": "5XtkOWkLUjVu"
   },
   "source": [
    ""
   ],
   "execution_count": null,
   "outputs": []
  },
  {
   "cell_type": "markdown",
   "metadata": {
    "collapsed": false,
    "pycharm": {
     "name": "#%% md\n"
    },
    "id": "aHeOaIWgUjVv"
   },
   "source": [
    "# Setting"
   ]
  },
  {
   "cell_type": "code",
   "metadata": {
    "pycharm": {
     "name": "#%%\n"
    },
    "id": "TBULk1zjUjVv"
   },
   "source": [
    "warnings.simplefilter('ignore')\n",
    "\n",
    "sns.set(style=\"darkgrid\")\n",
    "\n",
    "pd.set_option('display.max_rows', 20)\n",
    "pd.set_option('display.max_columns', 20)"
   ],
   "execution_count": null,
   "outputs": []
  },
  {
   "cell_type": "code",
   "metadata": {
    "pycharm": {
     "name": "#%%\n"
    },
    "id": "DF3I4wNyUjVv"
   },
   "source": [
    ""
   ],
   "execution_count": null,
   "outputs": []
  },
  {
   "cell_type": "code",
   "metadata": {
    "pycharm": {
     "name": "#%%\n"
    },
    "id": "7lIBcVUeUjVx"
   },
   "source": [
    ""
   ],
   "execution_count": null,
   "outputs": []
  },
  {
   "cell_type": "code",
   "metadata": {
    "pycharm": {
     "name": "#%%\n"
    },
    "id": "vqd8jJG9UjVy"
   },
   "source": [
    ""
   ],
   "execution_count": null,
   "outputs": []
  },
  {
   "cell_type": "code",
   "metadata": {
    "pycharm": {
     "name": "#%%\n"
    },
    "id": "-5Qt27oLUjV0"
   },
   "source": [
    ""
   ],
   "execution_count": null,
   "outputs": []
  },
  {
   "cell_type": "code",
   "metadata": {
    "pycharm": {
     "name": "#%%\n"
    },
    "id": "6khuumAdUjV1"
   },
   "source": [
    ""
   ],
   "execution_count": null,
   "outputs": []
  }
 ]
}